{
  "cells": [
    {
      "cell_type": "markdown",
      "metadata": {
        "id": "mXlAuwTuSqBg"
      },
      "source": [
        "# **Assignment 6 : Imputation via Regression for Missing Data**"
      ]
    },
    {
      "cell_type": "markdown",
      "metadata": {
        "id": "XGw-iUUuS1iQ"
      },
      "source": [
        "## **Introduction**\n",
        "\n",
        "Missing data is a common issue in real-world datasets and can negatively affect the performance of machine learning models. This assignment explores different techniques to handle missing values using the UCI Credit Card Default Clients dataset.\n",
        "\n",
        "Three imputation methods are applied — median imputation, linear regression imputation, and non-linear regression imputation — along with listwise deletion for comparison. The effectiveness of each method is then evaluated using a Logistic Regression classifier to understand how the choice of imputation impacts model performance.\n",
        "\n",
        "---"
      ]
    },
    {
      "cell_type": "markdown",
      "metadata": {
        "id": "62Ezbgu6TR59"
      },
      "source": [
        "### **PART A: Data Preprocessing and Imputation**\n",
        "\n",
        "**Importing Necessary Libraries**"
      ]
    },
    {
      "cell_type": "code",
      "execution_count": 1,
      "metadata": {
        "id": "gvp-tmXJmCEn"
      },
      "outputs": [],
      "source": [
        "import pandas as pd\n",
        "import numpy as np\n",
        "import matplotlib.pyplot as plt\n",
        "import seaborn as sns\n",
        "import warnings\n",
        "warnings.filterwarnings('ignore')\n",
        "\n",
        "from sklearn.model_selection import train_test_split\n",
        "from sklearn.model_selection import GridSearchCV\n",
        "from sklearn.metrics import mean_squared_error, make_scorer\n",
        "from sklearn.preprocessing import StandardScaler\n",
        "from sklearn.linear_model import LinearRegression, LogisticRegression\n",
        "from sklearn.neighbors import KNeighborsRegressor\n",
        "from sklearn.tree import DecisionTreeRegressor\n",
        "from sklearn.metrics import classification_report"
      ]
    },
    {
      "cell_type": "markdown",
      "metadata": {
        "id": "6zLkSX75Trng"
      },
      "source": [
        "Mounting to Google drive"
      ]
    },
    {
      "cell_type": "code",
      "execution_count": 2,
      "metadata": {
        "id": "fe3vLHDlhOcx",
        "colab": {
          "base_uri": "https://localhost:8080/"
        },
        "outputId": "3704c2c8-3e37-4b9f-eb1c-54074fe9082f"
      },
      "outputs": [
        {
          "output_type": "stream",
          "name": "stdout",
          "text": [
            "Mounted at /content/drive\n"
          ]
        }
      ],
      "source": [
        "from google.colab import drive\n",
        "drive.mount('/content/drive')"
      ]
    },
    {
      "cell_type": "markdown",
      "metadata": {
        "id": "RUjO6ohNUlTz"
      },
      "source": [
        "## **1. Load and Prepare Data**"
      ]
    },
    {
      "cell_type": "code",
      "execution_count": 3,
      "metadata": {
        "id": "CGv1DPH7had5"
      },
      "outputs": [],
      "source": [
        "df = pd.read_csv(\"/content/drive/MyDrive/ColabData/UCI_Credit_Card.csv\")"
      ]
    },
    {
      "cell_type": "code",
      "execution_count": 4,
      "metadata": {
        "id": "4M1Epl7WBiOp",
        "colab": {
          "base_uri": "https://localhost:8080/",
          "height": 249
        },
        "outputId": "b1a41b14-e756-42a6-b894-c1fda896b13b"
      },
      "outputs": [
        {
          "output_type": "execute_result",
          "data": {
            "text/plain": [
              "   ID  LIMIT_BAL  SEX  EDUCATION  MARRIAGE  AGE  PAY_0  PAY_2  PAY_3  PAY_4  \\\n",
              "0   1    20000.0    2          2         1   24      2      2     -1     -1   \n",
              "1   2   120000.0    2          2         2   26     -1      2      0      0   \n",
              "2   3    90000.0    2          2         2   34      0      0      0      0   \n",
              "3   4    50000.0    2          2         1   37      0      0      0      0   \n",
              "4   5    50000.0    1          2         1   57     -1      0     -1      0   \n",
              "\n",
              "   ...  BILL_AMT4  BILL_AMT5  BILL_AMT6  PAY_AMT1  PAY_AMT2  PAY_AMT3  \\\n",
              "0  ...        0.0        0.0        0.0       0.0     689.0       0.0   \n",
              "1  ...     3272.0     3455.0     3261.0       0.0    1000.0    1000.0   \n",
              "2  ...    14331.0    14948.0    15549.0    1518.0    1500.0    1000.0   \n",
              "3  ...    28314.0    28959.0    29547.0    2000.0    2019.0    1200.0   \n",
              "4  ...    20940.0    19146.0    19131.0    2000.0   36681.0   10000.0   \n",
              "\n",
              "   PAY_AMT4  PAY_AMT5  PAY_AMT6  default.payment.next.month  \n",
              "0       0.0       0.0       0.0                           1  \n",
              "1    1000.0       0.0    2000.0                           1  \n",
              "2    1000.0    1000.0    5000.0                           0  \n",
              "3    1100.0    1069.0    1000.0                           0  \n",
              "4    9000.0     689.0     679.0                           0  \n",
              "\n",
              "[5 rows x 25 columns]"
            ],
            "text/html": [
              "\n",
              "  <div id=\"df-e4cac6c2-5a52-4eeb-bf23-d37dfc1474a7\" class=\"colab-df-container\">\n",
              "    <div>\n",
              "<style scoped>\n",
              "    .dataframe tbody tr th:only-of-type {\n",
              "        vertical-align: middle;\n",
              "    }\n",
              "\n",
              "    .dataframe tbody tr th {\n",
              "        vertical-align: top;\n",
              "    }\n",
              "\n",
              "    .dataframe thead th {\n",
              "        text-align: right;\n",
              "    }\n",
              "</style>\n",
              "<table border=\"1\" class=\"dataframe\">\n",
              "  <thead>\n",
              "    <tr style=\"text-align: right;\">\n",
              "      <th></th>\n",
              "      <th>ID</th>\n",
              "      <th>LIMIT_BAL</th>\n",
              "      <th>SEX</th>\n",
              "      <th>EDUCATION</th>\n",
              "      <th>MARRIAGE</th>\n",
              "      <th>AGE</th>\n",
              "      <th>PAY_0</th>\n",
              "      <th>PAY_2</th>\n",
              "      <th>PAY_3</th>\n",
              "      <th>PAY_4</th>\n",
              "      <th>...</th>\n",
              "      <th>BILL_AMT4</th>\n",
              "      <th>BILL_AMT5</th>\n",
              "      <th>BILL_AMT6</th>\n",
              "      <th>PAY_AMT1</th>\n",
              "      <th>PAY_AMT2</th>\n",
              "      <th>PAY_AMT3</th>\n",
              "      <th>PAY_AMT4</th>\n",
              "      <th>PAY_AMT5</th>\n",
              "      <th>PAY_AMT6</th>\n",
              "      <th>default.payment.next.month</th>\n",
              "    </tr>\n",
              "  </thead>\n",
              "  <tbody>\n",
              "    <tr>\n",
              "      <th>0</th>\n",
              "      <td>1</td>\n",
              "      <td>20000.0</td>\n",
              "      <td>2</td>\n",
              "      <td>2</td>\n",
              "      <td>1</td>\n",
              "      <td>24</td>\n",
              "      <td>2</td>\n",
              "      <td>2</td>\n",
              "      <td>-1</td>\n",
              "      <td>-1</td>\n",
              "      <td>...</td>\n",
              "      <td>0.0</td>\n",
              "      <td>0.0</td>\n",
              "      <td>0.0</td>\n",
              "      <td>0.0</td>\n",
              "      <td>689.0</td>\n",
              "      <td>0.0</td>\n",
              "      <td>0.0</td>\n",
              "      <td>0.0</td>\n",
              "      <td>0.0</td>\n",
              "      <td>1</td>\n",
              "    </tr>\n",
              "    <tr>\n",
              "      <th>1</th>\n",
              "      <td>2</td>\n",
              "      <td>120000.0</td>\n",
              "      <td>2</td>\n",
              "      <td>2</td>\n",
              "      <td>2</td>\n",
              "      <td>26</td>\n",
              "      <td>-1</td>\n",
              "      <td>2</td>\n",
              "      <td>0</td>\n",
              "      <td>0</td>\n",
              "      <td>...</td>\n",
              "      <td>3272.0</td>\n",
              "      <td>3455.0</td>\n",
              "      <td>3261.0</td>\n",
              "      <td>0.0</td>\n",
              "      <td>1000.0</td>\n",
              "      <td>1000.0</td>\n",
              "      <td>1000.0</td>\n",
              "      <td>0.0</td>\n",
              "      <td>2000.0</td>\n",
              "      <td>1</td>\n",
              "    </tr>\n",
              "    <tr>\n",
              "      <th>2</th>\n",
              "      <td>3</td>\n",
              "      <td>90000.0</td>\n",
              "      <td>2</td>\n",
              "      <td>2</td>\n",
              "      <td>2</td>\n",
              "      <td>34</td>\n",
              "      <td>0</td>\n",
              "      <td>0</td>\n",
              "      <td>0</td>\n",
              "      <td>0</td>\n",
              "      <td>...</td>\n",
              "      <td>14331.0</td>\n",
              "      <td>14948.0</td>\n",
              "      <td>15549.0</td>\n",
              "      <td>1518.0</td>\n",
              "      <td>1500.0</td>\n",
              "      <td>1000.0</td>\n",
              "      <td>1000.0</td>\n",
              "      <td>1000.0</td>\n",
              "      <td>5000.0</td>\n",
              "      <td>0</td>\n",
              "    </tr>\n",
              "    <tr>\n",
              "      <th>3</th>\n",
              "      <td>4</td>\n",
              "      <td>50000.0</td>\n",
              "      <td>2</td>\n",
              "      <td>2</td>\n",
              "      <td>1</td>\n",
              "      <td>37</td>\n",
              "      <td>0</td>\n",
              "      <td>0</td>\n",
              "      <td>0</td>\n",
              "      <td>0</td>\n",
              "      <td>...</td>\n",
              "      <td>28314.0</td>\n",
              "      <td>28959.0</td>\n",
              "      <td>29547.0</td>\n",
              "      <td>2000.0</td>\n",
              "      <td>2019.0</td>\n",
              "      <td>1200.0</td>\n",
              "      <td>1100.0</td>\n",
              "      <td>1069.0</td>\n",
              "      <td>1000.0</td>\n",
              "      <td>0</td>\n",
              "    </tr>\n",
              "    <tr>\n",
              "      <th>4</th>\n",
              "      <td>5</td>\n",
              "      <td>50000.0</td>\n",
              "      <td>1</td>\n",
              "      <td>2</td>\n",
              "      <td>1</td>\n",
              "      <td>57</td>\n",
              "      <td>-1</td>\n",
              "      <td>0</td>\n",
              "      <td>-1</td>\n",
              "      <td>0</td>\n",
              "      <td>...</td>\n",
              "      <td>20940.0</td>\n",
              "      <td>19146.0</td>\n",
              "      <td>19131.0</td>\n",
              "      <td>2000.0</td>\n",
              "      <td>36681.0</td>\n",
              "      <td>10000.0</td>\n",
              "      <td>9000.0</td>\n",
              "      <td>689.0</td>\n",
              "      <td>679.0</td>\n",
              "      <td>0</td>\n",
              "    </tr>\n",
              "  </tbody>\n",
              "</table>\n",
              "<p>5 rows × 25 columns</p>\n",
              "</div>\n",
              "    <div class=\"colab-df-buttons\">\n",
              "\n",
              "  <div class=\"colab-df-container\">\n",
              "    <button class=\"colab-df-convert\" onclick=\"convertToInteractive('df-e4cac6c2-5a52-4eeb-bf23-d37dfc1474a7')\"\n",
              "            title=\"Convert this dataframe to an interactive table.\"\n",
              "            style=\"display:none;\">\n",
              "\n",
              "  <svg xmlns=\"http://www.w3.org/2000/svg\" height=\"24px\" viewBox=\"0 -960 960 960\">\n",
              "    <path d=\"M120-120v-720h720v720H120Zm60-500h600v-160H180v160Zm220 220h160v-160H400v160Zm0 220h160v-160H400v160ZM180-400h160v-160H180v160Zm440 0h160v-160H620v160ZM180-180h160v-160H180v160Zm440 0h160v-160H620v160Z\"/>\n",
              "  </svg>\n",
              "    </button>\n",
              "\n",
              "  <style>\n",
              "    .colab-df-container {\n",
              "      display:flex;\n",
              "      gap: 12px;\n",
              "    }\n",
              "\n",
              "    .colab-df-convert {\n",
              "      background-color: #E8F0FE;\n",
              "      border: none;\n",
              "      border-radius: 50%;\n",
              "      cursor: pointer;\n",
              "      display: none;\n",
              "      fill: #1967D2;\n",
              "      height: 32px;\n",
              "      padding: 0 0 0 0;\n",
              "      width: 32px;\n",
              "    }\n",
              "\n",
              "    .colab-df-convert:hover {\n",
              "      background-color: #E2EBFA;\n",
              "      box-shadow: 0px 1px 2px rgba(60, 64, 67, 0.3), 0px 1px 3px 1px rgba(60, 64, 67, 0.15);\n",
              "      fill: #174EA6;\n",
              "    }\n",
              "\n",
              "    .colab-df-buttons div {\n",
              "      margin-bottom: 4px;\n",
              "    }\n",
              "\n",
              "    [theme=dark] .colab-df-convert {\n",
              "      background-color: #3B4455;\n",
              "      fill: #D2E3FC;\n",
              "    }\n",
              "\n",
              "    [theme=dark] .colab-df-convert:hover {\n",
              "      background-color: #434B5C;\n",
              "      box-shadow: 0px 1px 3px 1px rgba(0, 0, 0, 0.15);\n",
              "      filter: drop-shadow(0px 1px 2px rgba(0, 0, 0, 0.3));\n",
              "      fill: #FFFFFF;\n",
              "    }\n",
              "  </style>\n",
              "\n",
              "    <script>\n",
              "      const buttonEl =\n",
              "        document.querySelector('#df-e4cac6c2-5a52-4eeb-bf23-d37dfc1474a7 button.colab-df-convert');\n",
              "      buttonEl.style.display =\n",
              "        google.colab.kernel.accessAllowed ? 'block' : 'none';\n",
              "\n",
              "      async function convertToInteractive(key) {\n",
              "        const element = document.querySelector('#df-e4cac6c2-5a52-4eeb-bf23-d37dfc1474a7');\n",
              "        const dataTable =\n",
              "          await google.colab.kernel.invokeFunction('convertToInteractive',\n",
              "                                                    [key], {});\n",
              "        if (!dataTable) return;\n",
              "\n",
              "        const docLinkHtml = 'Like what you see? Visit the ' +\n",
              "          '<a target=\"_blank\" href=https://colab.research.google.com/notebooks/data_table.ipynb>data table notebook</a>'\n",
              "          + ' to learn more about interactive tables.';\n",
              "        element.innerHTML = '';\n",
              "        dataTable['output_type'] = 'display_data';\n",
              "        await google.colab.output.renderOutput(dataTable, element);\n",
              "        const docLink = document.createElement('div');\n",
              "        docLink.innerHTML = docLinkHtml;\n",
              "        element.appendChild(docLink);\n",
              "      }\n",
              "    </script>\n",
              "  </div>\n",
              "\n",
              "\n",
              "    <div id=\"df-ccc454f9-bcc5-4dae-bb4d-95851143f723\">\n",
              "      <button class=\"colab-df-quickchart\" onclick=\"quickchart('df-ccc454f9-bcc5-4dae-bb4d-95851143f723')\"\n",
              "                title=\"Suggest charts\"\n",
              "                style=\"display:none;\">\n",
              "\n",
              "<svg xmlns=\"http://www.w3.org/2000/svg\" height=\"24px\"viewBox=\"0 0 24 24\"\n",
              "     width=\"24px\">\n",
              "    <g>\n",
              "        <path d=\"M19 3H5c-1.1 0-2 .9-2 2v14c0 1.1.9 2 2 2h14c1.1 0 2-.9 2-2V5c0-1.1-.9-2-2-2zM9 17H7v-7h2v7zm4 0h-2V7h2v10zm4 0h-2v-4h2v4z\"/>\n",
              "    </g>\n",
              "</svg>\n",
              "      </button>\n",
              "\n",
              "<style>\n",
              "  .colab-df-quickchart {\n",
              "      --bg-color: #E8F0FE;\n",
              "      --fill-color: #1967D2;\n",
              "      --hover-bg-color: #E2EBFA;\n",
              "      --hover-fill-color: #174EA6;\n",
              "      --disabled-fill-color: #AAA;\n",
              "      --disabled-bg-color: #DDD;\n",
              "  }\n",
              "\n",
              "  [theme=dark] .colab-df-quickchart {\n",
              "      --bg-color: #3B4455;\n",
              "      --fill-color: #D2E3FC;\n",
              "      --hover-bg-color: #434B5C;\n",
              "      --hover-fill-color: #FFFFFF;\n",
              "      --disabled-bg-color: #3B4455;\n",
              "      --disabled-fill-color: #666;\n",
              "  }\n",
              "\n",
              "  .colab-df-quickchart {\n",
              "    background-color: var(--bg-color);\n",
              "    border: none;\n",
              "    border-radius: 50%;\n",
              "    cursor: pointer;\n",
              "    display: none;\n",
              "    fill: var(--fill-color);\n",
              "    height: 32px;\n",
              "    padding: 0;\n",
              "    width: 32px;\n",
              "  }\n",
              "\n",
              "  .colab-df-quickchart:hover {\n",
              "    background-color: var(--hover-bg-color);\n",
              "    box-shadow: 0 1px 2px rgba(60, 64, 67, 0.3), 0 1px 3px 1px rgba(60, 64, 67, 0.15);\n",
              "    fill: var(--button-hover-fill-color);\n",
              "  }\n",
              "\n",
              "  .colab-df-quickchart-complete:disabled,\n",
              "  .colab-df-quickchart-complete:disabled:hover {\n",
              "    background-color: var(--disabled-bg-color);\n",
              "    fill: var(--disabled-fill-color);\n",
              "    box-shadow: none;\n",
              "  }\n",
              "\n",
              "  .colab-df-spinner {\n",
              "    border: 2px solid var(--fill-color);\n",
              "    border-color: transparent;\n",
              "    border-bottom-color: var(--fill-color);\n",
              "    animation:\n",
              "      spin 1s steps(1) infinite;\n",
              "  }\n",
              "\n",
              "  @keyframes spin {\n",
              "    0% {\n",
              "      border-color: transparent;\n",
              "      border-bottom-color: var(--fill-color);\n",
              "      border-left-color: var(--fill-color);\n",
              "    }\n",
              "    20% {\n",
              "      border-color: transparent;\n",
              "      border-left-color: var(--fill-color);\n",
              "      border-top-color: var(--fill-color);\n",
              "    }\n",
              "    30% {\n",
              "      border-color: transparent;\n",
              "      border-left-color: var(--fill-color);\n",
              "      border-top-color: var(--fill-color);\n",
              "      border-right-color: var(--fill-color);\n",
              "    }\n",
              "    40% {\n",
              "      border-color: transparent;\n",
              "      border-right-color: var(--fill-color);\n",
              "      border-top-color: var(--fill-color);\n",
              "    }\n",
              "    60% {\n",
              "      border-color: transparent;\n",
              "      border-right-color: var(--fill-color);\n",
              "    }\n",
              "    80% {\n",
              "      border-color: transparent;\n",
              "      border-right-color: var(--fill-color);\n",
              "      border-bottom-color: var(--fill-color);\n",
              "    }\n",
              "    90% {\n",
              "      border-color: transparent;\n",
              "      border-bottom-color: var(--fill-color);\n",
              "    }\n",
              "  }\n",
              "</style>\n",
              "\n",
              "      <script>\n",
              "        async function quickchart(key) {\n",
              "          const quickchartButtonEl =\n",
              "            document.querySelector('#' + key + ' button');\n",
              "          quickchartButtonEl.disabled = true;  // To prevent multiple clicks.\n",
              "          quickchartButtonEl.classList.add('colab-df-spinner');\n",
              "          try {\n",
              "            const charts = await google.colab.kernel.invokeFunction(\n",
              "                'suggestCharts', [key], {});\n",
              "          } catch (error) {\n",
              "            console.error('Error during call to suggestCharts:', error);\n",
              "          }\n",
              "          quickchartButtonEl.classList.remove('colab-df-spinner');\n",
              "          quickchartButtonEl.classList.add('colab-df-quickchart-complete');\n",
              "        }\n",
              "        (() => {\n",
              "          let quickchartButtonEl =\n",
              "            document.querySelector('#df-ccc454f9-bcc5-4dae-bb4d-95851143f723 button');\n",
              "          quickchartButtonEl.style.display =\n",
              "            google.colab.kernel.accessAllowed ? 'block' : 'none';\n",
              "        })();\n",
              "      </script>\n",
              "    </div>\n",
              "\n",
              "    </div>\n",
              "  </div>\n"
            ],
            "application/vnd.google.colaboratory.intrinsic+json": {
              "type": "dataframe",
              "variable_name": "df"
            }
          },
          "metadata": {},
          "execution_count": 4
        }
      ],
      "source": [
        "df.head()"
      ]
    },
    {
      "cell_type": "markdown",
      "metadata": {
        "id": "CHZ7GzIkT35Y"
      },
      "source": [
        "Below we check that there is no null values in any features"
      ]
    },
    {
      "cell_type": "code",
      "execution_count": 5,
      "metadata": {
        "id": "hqpqaHDOhqiW",
        "colab": {
          "base_uri": "https://localhost:8080/"
        },
        "outputId": "b6f38d63-2c15-429c-e45b-923a6b662602"
      },
      "outputs": [
        {
          "output_type": "stream",
          "name": "stdout",
          "text": [
            "<class 'pandas.core.frame.DataFrame'>\n",
            "RangeIndex: 30000 entries, 0 to 29999\n",
            "Data columns (total 25 columns):\n",
            " #   Column                      Non-Null Count  Dtype  \n",
            "---  ------                      --------------  -----  \n",
            " 0   ID                          30000 non-null  int64  \n",
            " 1   LIMIT_BAL                   30000 non-null  float64\n",
            " 2   SEX                         30000 non-null  int64  \n",
            " 3   EDUCATION                   30000 non-null  int64  \n",
            " 4   MARRIAGE                    30000 non-null  int64  \n",
            " 5   AGE                         30000 non-null  int64  \n",
            " 6   PAY_0                       30000 non-null  int64  \n",
            " 7   PAY_2                       30000 non-null  int64  \n",
            " 8   PAY_3                       30000 non-null  int64  \n",
            " 9   PAY_4                       30000 non-null  int64  \n",
            " 10  PAY_5                       30000 non-null  int64  \n",
            " 11  PAY_6                       30000 non-null  int64  \n",
            " 12  BILL_AMT1                   30000 non-null  float64\n",
            " 13  BILL_AMT2                   30000 non-null  float64\n",
            " 14  BILL_AMT3                   30000 non-null  float64\n",
            " 15  BILL_AMT4                   30000 non-null  float64\n",
            " 16  BILL_AMT5                   30000 non-null  float64\n",
            " 17  BILL_AMT6                   30000 non-null  float64\n",
            " 18  PAY_AMT1                    30000 non-null  float64\n",
            " 19  PAY_AMT2                    30000 non-null  float64\n",
            " 20  PAY_AMT3                    30000 non-null  float64\n",
            " 21  PAY_AMT4                    30000 non-null  float64\n",
            " 22  PAY_AMT5                    30000 non-null  float64\n",
            " 23  PAY_AMT6                    30000 non-null  float64\n",
            " 24  default.payment.next.month  30000 non-null  int64  \n",
            "dtypes: float64(13), int64(12)\n",
            "memory usage: 5.7 MB\n"
          ]
        }
      ],
      "source": [
        "df.info()"
      ]
    },
    {
      "cell_type": "markdown",
      "metadata": {
        "id": "_PAgRExCowaY"
      },
      "source": [
        "So, There are total 30,000 entries and none of them have null values ."
      ]
    },
    {
      "cell_type": "markdown",
      "metadata": {
        "id": "rr2Hp9enUFz8"
      },
      "source": [
        "we set our **target variable** to **'default payment next month'** feature"
      ]
    },
    {
      "cell_type": "code",
      "execution_count": 6,
      "metadata": {
        "id": "O9XR0slrhuG6"
      },
      "outputs": [],
      "source": [
        "target = 'default.payment.next.month'"
      ]
    },
    {
      "cell_type": "markdown",
      "metadata": {
        "id": "yTLuIiCLU3Pk"
      },
      "source": [
        "Below code introduces **5% missing values** at random in the columns **'AGE'** and **'BILL_AMT1'** to simulate a real-world **Missing At Random (MAR)** scenario and then displays the count of missing entries in each column."
      ]
    },
    {
      "cell_type": "code",
      "execution_count": 7,
      "metadata": {
        "id": "uFpyVrzchzkd",
        "colab": {
          "base_uri": "https://localhost:8080/"
        },
        "outputId": "1698c38d-f2a6-4f09-900e-ae26104f5f3c"
      },
      "outputs": [
        {
          "output_type": "stream",
          "name": "stdout",
          "text": [
            "Missing values introduced:\n",
            "AGE          1500\n",
            "BILL_AMT1    1500\n",
            "dtype: int64\n"
          ]
        }
      ],
      "source": [
        "np.random.seed(42)\n",
        "for col in ['AGE', 'BILL_AMT1']:\n",
        "    missing_indices = np.random.choice(df.index, size=int(0.05 * len(df)), replace=False)\n",
        "    df.loc[missing_indices, col] = np.nan\n",
        "\n",
        "print(\"Missing values introduced:\")\n",
        "print(df[['AGE', 'BILL_AMT1']].isnull().sum())"
      ]
    },
    {
      "cell_type": "markdown",
      "metadata": {
        "id": "Cy-HZtyeVF1W"
      },
      "source": [
        "## 2. **Imputation Strategy 1: Simple Imputation (Baseline):**\n",
        "\n",
        "- In this step, a clean copy of the dataset (Dataset A) is created, and all missing values are replaced with the Median of their respective columns."
      ]
    },
    {
      "cell_type": "code",
      "execution_count": 8,
      "metadata": {
        "id": "dNDwpPPmiBkN",
        "colab": {
          "base_uri": "https://localhost:8080/"
        },
        "outputId": "94ccc2cb-c04b-4254-f16d-d4b3149e5a00"
      },
      "outputs": [
        {
          "output_type": "stream",
          "name": "stdout",
          "text": [
            "\n",
            "Dataset A (Median Imputation) - Missing values:\n",
            "AGE          0\n",
            "BILL_AMT1    0\n",
            "dtype: int64\n"
          ]
        }
      ],
      "source": [
        "df_median = df.copy()\n",
        "for col in ['AGE', 'BILL_AMT1']:\n",
        "    median_value = df_median[col].median()\n",
        "    df_median[col].fillna(median_value, inplace=True)\n",
        "\n",
        "print(\"\\nDataset A (Median Imputation) - Missing values:\")\n",
        "print(df_median[['AGE', 'BILL_AMT1']].isnull().sum())"
      ]
    },
    {
      "cell_type": "markdown",
      "metadata": {
        "id": "qaX_ko6uVdvN"
      },
      "source": [
        "### **Why is Median  preferred over the mean ?**\n",
        "\n",
        "- The median is less affected by extreme values or outliers in columns like AGE and BILL_AMT1.\n",
        "\n",
        "- It gives a more accurate central value for skewed financial data over mean .\n",
        "- furthermore , it Helps maintain the original distribution of the dataset after imputation.\n",
        "\n",
        "---"
      ]
    },
    {
      "cell_type": "markdown",
      "metadata": {
        "id": "3hxDCaCyWf91"
      },
      "source": [
        "## **3.  Imputation Strategy 2: Regression Imputation (Linear):**\n",
        "\n",
        "**I used following steps to create a Dataframe using linear regression :-**"
      ]
    },
    {
      "cell_type": "markdown",
      "metadata": {
        "id": "I_kJmiCeXugR"
      },
      "source": [
        "- Created a copy of the dataset with missing values\n",
        "- impute_col is the column with missing values ('AGE')."
      ]
    },
    {
      "cell_type": "markdown",
      "metadata": {
        "id": "nW3EZCiFcc6v"
      },
      "source": [
        "- **Split data into training and test sets**\n",
        "  - Training set: rows where 'AGE' is not missing.\n",
        "  -  Test set: rows where 'AGE' is missing.\n",
        "\n",
        "- Fill missing values in features with the median of the training set.\n",
        "- **Using GridSearchCV and do hyperparameter Tuning to Train a Linear Regression** model & Fill predicted values in the dataframe\n",
        "- Finally verifying missing values in the new dataframe df_linear"
      ]
    },
    {
      "cell_type": "code",
      "execution_count": 9,
      "metadata": {
        "id": "5ks0kNR-bqBF",
        "colab": {
          "base_uri": "https://localhost:8080/"
        },
        "outputId": "c91fa982-a12d-45bd-9193-b98dede995b9"
      },
      "outputs": [
        {
          "output_type": "stream",
          "name": "stdout",
          "text": [
            "Fitting 5 folds for each of 6 candidates, totalling 30 fits\n",
            "Optimal alpha: 10\n",
            "Corresponding RMSE (CV mean): 8.1752\n",
            "\n",
            "Dataset B (Linear Regression Imputation using Ridge + GridSearchCV) - Missing values:\n",
            "0\n"
          ]
        }
      ],
      "source": [
        "from sklearn.model_selection import GridSearchCV\n",
        "from sklearn.linear_model import Ridge\n",
        "import numpy as np\n",
        "\n",
        "# 1. Create a Copy of Original Dataset\n",
        "df_linear = df.copy()\n",
        "impute_col = 'AGE'\n",
        "\n",
        "\n",
        "# 2. We split the data for Linear Regression\n",
        "train_data = df_linear[df_linear[impute_col].notnull()]\n",
        "test_data = df_linear[df_linear[impute_col].isnull()]\n",
        "\n",
        "X_train = train_data.drop(columns=[impute_col, target])\n",
        "y_train = train_data[impute_col]\n",
        "X_test = test_data.drop(columns=[impute_col, target])\n",
        "\n",
        "\n",
        "# 3. Handle NaN in predictors (temporary median fill)\n",
        "X_train = X_train.fillna(X_train.median(numeric_only=True))\n",
        "X_test = X_test.fillna(X_train.median(numeric_only=True))\n",
        "\n",
        "\n",
        "# 4. Select only numerical columns\n",
        "X_train_num = X_train.select_dtypes(include=[np.number])\n",
        "X_test_num = X_test.select_dtypes(include=[np.number])\n",
        "\n",
        "\n",
        "# 5. Define parameter grid for Ridge Regression (regularized linear model)\n",
        "param_grid = {\n",
        "    'alpha':[0.1, 0.01,0.001 ,1 ,10 ,100 ]                                      # Tried alpha = 0.001 to 1000\n",
        "}\n",
        "\n",
        "\n",
        "# 6. Initialize Ridge model\n",
        "ridge_reg = Ridge()\n",
        "\n",
        "\n",
        "# 7. GridSearchCV to find the best alpha\n",
        "grid_search = GridSearchCV(\n",
        "    estimator=ridge_reg,\n",
        "    param_grid=param_grid,\n",
        "    scoring='neg_root_mean_squared_error',                                      # use RMSE as metric\n",
        "    cv=5,\n",
        "    n_jobs=-1,\n",
        "    verbose=1\n",
        ")\n",
        "\n",
        "\n",
        "# 8. Fit GridSearch on training data\n",
        "grid_search.fit(X_train_num, y_train)\n",
        "\n",
        "\n",
        "# 9. Best model and parameters\n",
        "best_alpha = grid_search.best_params_['alpha']\n",
        "best_rmse = -grid_search.best_score_\n",
        "print(f\"Optimal alpha: {best_alpha}\")\n",
        "print(f\"Corresponding RMSE (CV mean): {best_rmse:.4f}\")\n",
        "\n",
        "\n",
        "# 10. Retrain Ridge using the best alpha\n",
        "best_ridge = Ridge(alpha=best_alpha)\n",
        "best_ridge.fit(X_train_num, y_train)\n",
        "\n",
        "\n",
        "# 11. Predict missing values\n",
        "predicted_values = best_ridge.predict(X_test_num)\n",
        "\n",
        "\n",
        "# 12. Fill missing AGE values in original dataframe\n",
        "df_linear.loc[df_linear[impute_col].isnull(), impute_col] = predicted_values\n",
        "\n",
        "\n",
        "print(\"\\nDataset B (Linear Regression Imputation using Ridge + GridSearchCV) - Missing values:\")\n",
        "print(df_linear[impute_col].isnull().sum())\n"
      ]
    },
    {
      "cell_type": "markdown",
      "metadata": {
        "id": "IO-1O1OFYUVV"
      },
      "source": [
        "we now check Dataset B info :"
      ]
    },
    {
      "cell_type": "code",
      "execution_count": 10,
      "metadata": {
        "id": "39cSh0e8pERE",
        "colab": {
          "base_uri": "https://localhost:8080/"
        },
        "outputId": "fd12b744-eaf4-401f-e4b2-10210c3e4df5"
      },
      "outputs": [
        {
          "output_type": "stream",
          "name": "stdout",
          "text": [
            "<class 'pandas.core.frame.DataFrame'>\n",
            "RangeIndex: 30000 entries, 0 to 29999\n",
            "Data columns (total 25 columns):\n",
            " #   Column                      Non-Null Count  Dtype  \n",
            "---  ------                      --------------  -----  \n",
            " 0   ID                          30000 non-null  int64  \n",
            " 1   LIMIT_BAL                   30000 non-null  float64\n",
            " 2   SEX                         30000 non-null  int64  \n",
            " 3   EDUCATION                   30000 non-null  int64  \n",
            " 4   MARRIAGE                    30000 non-null  int64  \n",
            " 5   AGE                         30000 non-null  float64\n",
            " 6   PAY_0                       30000 non-null  int64  \n",
            " 7   PAY_2                       30000 non-null  int64  \n",
            " 8   PAY_3                       30000 non-null  int64  \n",
            " 9   PAY_4                       30000 non-null  int64  \n",
            " 10  PAY_5                       30000 non-null  int64  \n",
            " 11  PAY_6                       30000 non-null  int64  \n",
            " 12  BILL_AMT1                   28500 non-null  float64\n",
            " 13  BILL_AMT2                   30000 non-null  float64\n",
            " 14  BILL_AMT3                   30000 non-null  float64\n",
            " 15  BILL_AMT4                   30000 non-null  float64\n",
            " 16  BILL_AMT5                   30000 non-null  float64\n",
            " 17  BILL_AMT6                   30000 non-null  float64\n",
            " 18  PAY_AMT1                    30000 non-null  float64\n",
            " 19  PAY_AMT2                    30000 non-null  float64\n",
            " 20  PAY_AMT3                    30000 non-null  float64\n",
            " 21  PAY_AMT4                    30000 non-null  float64\n",
            " 22  PAY_AMT5                    30000 non-null  float64\n",
            " 23  PAY_AMT6                    30000 non-null  float64\n",
            " 24  default.payment.next.month  30000 non-null  int64  \n",
            "dtypes: float64(14), int64(11)\n",
            "memory usage: 5.7 MB\n"
          ]
        }
      ],
      "source": [
        "df_linear.info()"
      ]
    },
    {
      "cell_type": "markdown",
      "metadata": {
        "id": "bP0scvyedrfS"
      },
      "source": [
        "Clearly , we replace all NaN values succesfully"
      ]
    },
    {
      "cell_type": "markdown",
      "metadata": {
        "id": "H3WtAGvMejdh"
      },
      "source": [
        "## **Assumptions we took :**\n",
        "---\n",
        "\n",
        "- **Linear Regression** imputation assumes the missing values in a column (that is , AGE) are **Missing At Random** (MAR) – meaning the chance of a value being missing depends on other observed features, not on the missing value itself.\n",
        "\n",
        "This allows the model to predict missing entries using relationships with available features.\n",
        "\n",
        "\n",
        "---"
      ]
    },
    {
      "cell_type": "markdown",
      "metadata": {
        "id": "e3v4e414akqm"
      },
      "source": [
        "## **4. Imputation Strategy 3: Regression Imputation (Non-Linear)**"
      ]
    },
    {
      "cell_type": "markdown",
      "metadata": {
        "id": "ISJ1BZQrgAZz"
      },
      "source": [
        "## **ASSUMPTIONS:**\n",
        "\n",
        "**We have to Assume Missing At Random (MAR) and works well for non-linear relationships.**\n",
        "\n",
        "- I Created a copy of the dataset and identify the column with missing values (that is , AGE).\n",
        "- Use rows with known values to train a KNN model with nearest neighbours = 19,  find using GridSearchCV and rows with missing values as test.\n",
        "- Fill missing predictors with the training median.\n",
        "- Predict missing values using KNN based on nearest neighbors and update the dataset.\n",
        "\n",
        "----"
      ]
    },
    {
      "cell_type": "markdown",
      "metadata": {
        "id": "VIC7Na5TXaru"
      },
      "source": [
        "-> Initially , we tried to find Optimal 'K' using ELbow plot but it was not much fruitful :"
      ]
    },
    {
      "cell_type": "code",
      "execution_count": 11,
      "metadata": {
        "id": "v9iR37X7rtiu",
        "colab": {
          "base_uri": "https://localhost:8080/",
          "height": 409
        },
        "outputId": "b35502cd-0dec-4fad-ffa4-538176e2f096"
      },
      "outputs": [
        {
          "output_type": "display_data",
          "data": {
            "text/plain": [
              "<Figure size 600x400 with 1 Axes>"
            ],
            "image/png": "[encoded data removed]"
          },
          "metadata": {}
        }
      ],
      "source": [
        "df_nonlinear = df.copy()\n",
        "\n",
        "impute_col = 'AGE'\n",
        "known_rows = df_nonlinear[df_nonlinear[impute_col].notnull()]\n",
        "\n",
        "X_known = known_rows.drop(columns=[impute_col, target])\n",
        "y_known = known_rows[impute_col]\n",
        "\n",
        "# Fill missing values in predictors with median\n",
        "X_known_filled = X_known.fillna(X_known.median(numeric_only=True))\n",
        "\n",
        "\n",
        "\n",
        "# Test different k values\n",
        "k_values = [1, 3, 5, 7, 10, 15]\n",
        "rmse_values = []\n",
        "\n",
        "for k in k_values:\n",
        "    knn = KNeighborsRegressor(n_neighbors=k)\n",
        "    knn.fit(X_known_filled, y_known)\n",
        "    y_pred = knn.predict(X_known_filled)\n",
        "    rmse = np.sqrt(mean_squared_error(y_known, y_pred))\n",
        "    rmse_values.append(rmse)\n",
        "\n",
        "# Plot RMSE vs k\n",
        "plt.figure(figsize=(6,4))\n",
        "plt.plot(k_values, rmse_values, marker='o', linestyle='-', color='teal')\n",
        "plt.title('Effect of k on RMSE')\n",
        "plt.xlabel('Number of Neighbors (k)')\n",
        "plt.ylabel('RMSE')\n",
        "plt.xticks(k_values)\n",
        "plt.show()\n"
      ]
    },
    {
      "cell_type": "markdown",
      "metadata": {
        "id": "E-L2BtL4t3jQ"
      },
      "source": [
        "The **RMSE V/s Number of Neighbours(k)** plot seems to provide vague information to find **Optimal 'k'** , so it is advisable to find Optimal No. of Neighbours using Methods like GridSearchCV.\n",
        "\n",
        "---"
      ]
    },
    {
      "cell_type": "markdown",
      "metadata": {
        "id": "sQ5BlKN1dyn5"
      },
      "source": [
        "- We implement the K-Nearest Neighbors (KNN) algorithm in conjunction with GridSearchCV to identify the optimal number of neighbors and create a DataSet from original Dataset having  missing values :-"
      ]
    },
    {
      "cell_type": "code",
      "execution_count": 12,
      "metadata": {
        "id": "Zs59ffQFKS7u",
        "colab": {
          "base_uri": "https://localhost:8080/"
        },
        "outputId": "4f561df5-b7ce-4c9c-b319-de27d3b6b192"
      },
      "outputs": [
        {
          "output_type": "stream",
          "name": "stdout",
          "text": [
            " Optimal k: 15\n",
            "Corresponding RMSE (CV mean): 9.3344\n",
            "\n",
            "Dataset C (Non-Linear Regression Imputation) - Missing values :\n",
            "0\n"
          ]
        }
      ],
      "source": [
        "# 1. Copy dataframe\n",
        "df_nonlinear = df.copy()\n",
        "impute_col = 'AGE'\n",
        "\n",
        "\n",
        "# 2. Split into known and unknown AGE\n",
        "train_data = df_nonlinear[df_nonlinear[impute_col].notnull()]\n",
        "test_data = df_nonlinear[df_nonlinear[impute_col].isnull()]\n",
        "\n",
        "X_train = train_data.drop(columns=[impute_col, target])\n",
        "y_train = train_data[impute_col]\n",
        "X_test = test_data.drop(columns=[impute_col, target])\n",
        "\n",
        "\n",
        "# 3. Handle NaN in predictors (temporary median fill)\n",
        "X_train = X_train.fillna(X_train.median(numeric_only=True))\n",
        "X_test = X_test.fillna(X_train.median(numeric_only=True))\n",
        "\n",
        "\n",
        "# 4. Select only numerical columns for regression\n",
        "X_train_num = X_train.select_dtypes(include=[np.number])\n",
        "X_test_num = X_test.select_dtypes(include=[np.number])\n",
        "\n",
        "\n",
        "# 5. Define parameter grid for 'k' (number of neighbors)  &   Initialize KNN regressor\n",
        "param_grid = {'n_neighbors': list(range(1, 16))}\n",
        "knn = KNeighborsRegressor()\n",
        "\n",
        "\n",
        "# 6. GridSearchCV with 5-fold cross-validation\n",
        "grid_search = GridSearchCV(knn, param_grid, cv=5, scoring='neg_root_mean_squared_error', n_jobs=-1)\n",
        "grid_search.fit(X_train_num, y_train)\n",
        "\n",
        "\n",
        "# 7. Get the Best model\n",
        "best_k = grid_search.best_params_['n_neighbors']\n",
        "best_rmse = -grid_search.best_score_\n",
        "print(f\" Optimal k: {best_k}\")\n",
        "print(f\"Corresponding RMSE (CV mean): {best_rmse:.4f}\")\n",
        "\n",
        "\n",
        "# 8. Trained final model using optimal k which is '15' in our case  &  Predict missing AGE values in test dataset\n",
        "knn_best = KNeighborsRegressor(n_neighbors=best_k)\n",
        "knn_best.fit(X_train_num, y_train)\n",
        "\n",
        "predicted_values_knn = knn_best.predict(X_test_num)\n",
        "df_nonlinear.loc[df_nonlinear[impute_col].isnull(), impute_col] = predicted_values_knn\n",
        "\n",
        "\n",
        "print(\"\\nDataset C (Non-Linear Regression Imputation) - Missing values :\")\n",
        "print(df_nonlinear[impute_col].isnull().sum())\n"
      ]
    },
    {
      "cell_type": "markdown",
      "metadata": {
        "id": "XNTx7npxXxUw"
      },
      "source": [
        "we check the info of Dataset C :"
      ]
    },
    {
      "cell_type": "code",
      "execution_count": 13,
      "metadata": {
        "id": "suTIXxKdpKo6",
        "colab": {
          "base_uri": "https://localhost:8080/"
        },
        "outputId": "ac3c52f3-89da-4e12-a0bc-8c2b136d57cc"
      },
      "outputs": [
        {
          "output_type": "stream",
          "name": "stdout",
          "text": [
            "<class 'pandas.core.frame.DataFrame'>\n",
            "RangeIndex: 30000 entries, 0 to 29999\n",
            "Data columns (total 25 columns):\n",
            " #   Column                      Non-Null Count  Dtype  \n",
            "---  ------                      --------------  -----  \n",
            " 0   ID                          30000 non-null  int64  \n",
            " 1   LIMIT_BAL                   30000 non-null  float64\n",
            " 2   SEX                         30000 non-null  int64  \n",
            " 3   EDUCATION                   30000 non-null  int64  \n",
            " 4   MARRIAGE                    30000 non-null  int64  \n",
            " 5   AGE                         30000 non-null  float64\n",
            " 6   PAY_0                       30000 non-null  int64  \n",
            " 7   PAY_2                       30000 non-null  int64  \n",
            " 8   PAY_3                       30000 non-null  int64  \n",
            " 9   PAY_4                       30000 non-null  int64  \n",
            " 10  PAY_5                       30000 non-null  int64  \n",
            " 11  PAY_6                       30000 non-null  int64  \n",
            " 12  BILL_AMT1                   28500 non-null  float64\n",
            " 13  BILL_AMT2                   30000 non-null  float64\n",
            " 14  BILL_AMT3                   30000 non-null  float64\n",
            " 15  BILL_AMT4                   30000 non-null  float64\n",
            " 16  BILL_AMT5                   30000 non-null  float64\n",
            " 17  BILL_AMT6                   30000 non-null  float64\n",
            " 18  PAY_AMT1                    30000 non-null  float64\n",
            " 19  PAY_AMT2                    30000 non-null  float64\n",
            " 20  PAY_AMT3                    30000 non-null  float64\n",
            " 21  PAY_AMT4                    30000 non-null  float64\n",
            " 22  PAY_AMT5                    30000 non-null  float64\n",
            " 23  PAY_AMT6                    30000 non-null  float64\n",
            " 24  default.payment.next.month  30000 non-null  int64  \n",
            "dtypes: float64(14), int64(11)\n",
            "memory usage: 5.7 MB\n"
          ]
        }
      ],
      "source": [
        "df_nonlinear.info()"
      ]
    },
    {
      "cell_type": "markdown",
      "metadata": {
        "id": "XnGyAw6EpOxe"
      },
      "source": [
        "Clearly, we can see that all NaN values are successfully replaced with the help of k_Nearest_neighbours"
      ]
    },
    {
      "cell_type": "markdown",
      "metadata": {
        "id": "xnntxU70jXug"
      },
      "source": [
        "# **PART B: MODEL TRAINING & PERFORMANCE**"
      ]
    },
    {
      "cell_type": "markdown",
      "metadata": {
        "id": "PnjqYkkzgrvE"
      },
      "source": [
        "**Dataset D** is created by removing all rows containing missing values ."
      ]
    },
    {
      "cell_type": "code",
      "execution_count": 14,
      "metadata": {
        "id": "n5buwSxTjaCZ",
        "colab": {
          "base_uri": "https://localhost:8080/"
        },
        "outputId": "9a541676-a375-463c-f529-113a2aad7fa7"
      },
      "outputs": [
        {
          "output_type": "stream",
          "name": "stdout",
          "text": [
            "\n",
            "Dataset D (Listwise Deletion) shape: (27077, 25)\n"
          ]
        }
      ],
      "source": [
        "# Dataset D: Listwise Deletion of all rows containg missing values\n",
        "df_listwise = df.dropna()\n",
        "print(\"\\nDataset D (Listwise Deletion) shape:\", df_listwise.shape)"
      ]
    },
    {
      "cell_type": "markdown",
      "metadata": {
        "id": "8_8AYiX9iK2U"
      },
      "source": [
        "We Now build a 'evaluate_model' function to train All 4 Logistic Regression Model\n",
        "- We **split all 4 Datasets** into train and testing sets .\n",
        "- We ensures **Input Features ('X')** are Standarized before Logistic Regression Model(look in the function) for each dataset.\n",
        "- **Using GridSearchCV, perform hyperparameter tuning** to train a **Logistic Regression model on each four separate datasets**, then generate a classification report for each to observe performance"
      ]
    },
    {
      "cell_type": "code",
      "execution_count": 15,
      "metadata": {
        "id": "HmX8iBh6jmqe"
      },
      "outputs": [],
      "source": [
        "\n",
        "def evaluate_model(df_input, name):\n",
        "    df_eval = df_input.copy()\n",
        "\n",
        "\n",
        "    # Fill any remaining missing values with column medians (safety step)\n",
        "    df_eval = df_eval.fillna(df_eval.median(numeric_only=True))\n",
        "\n",
        "    X = df_eval.drop(columns=[target])\n",
        "    y = df_eval[target]\n",
        "\n",
        "\n",
        " # -> Split the datasets into train and test\n",
        "    X_train, X_test, y_train, y_test = train_test_split(X, y, test_size=0.2, random_state=42)\n",
        "\n",
        "\n",
        " # ->  Standardize the features before training\n",
        "    scaler = StandardScaler()\n",
        "    X_train_scaled = scaler.fit_transform(X_train)\n",
        "    X_test_scaled = scaler.transform(X_test)\n",
        "\n",
        "\n",
        "    # Base model\n",
        "    log_reg = LogisticRegression(max_iter=1000)\n",
        "\n",
        "\n",
        "    # Parameter grid for GridSearchCV\n",
        "    param_grid = {\n",
        "        'C': [0.1 ,0.01 ,0.001 ,1 ,10 ,100 ],                                   # Regularization strength\n",
        "        'penalty': ['l1', 'l2'],                                                # Regularization type\n",
        "        'solver': ['liblinear', 'saga'],                                        # Solvers that support L1 & L2\n",
        "        'class_weight':['balanced', None]                                       # preference given to distribution\n",
        "        }\n",
        "\n",
        "\n",
        "    # Initialize GridSearchCV ( fixed estimator argument)\n",
        "    grid_search = GridSearchCV(\n",
        "        estimator=log_reg,\n",
        "        param_grid=param_grid,\n",
        "        cv=5,\n",
        "        scoring='f1_weighted',\n",
        "        n_jobs=-1,\n",
        "        verbose=1\n",
        "    )\n",
        "\n",
        "\n",
        "\n",
        "    # Fit on training data\n",
        "    grid_search.fit(X_train_scaled, y_train)\n",
        "\n",
        "\n",
        "    # Get the Best Best model\n",
        "    best_model = grid_search.best_estimator_\n",
        "    print(f\"\\n Best Parameters for {name}: {grid_search.best_params_}\")\n",
        "    print(f\" Best CV F1-score: {grid_search.best_score_:.4f}\")\n",
        "\n",
        "\n",
        "    # Evaluate on test data\n",
        "    y_pred = best_model.predict(X_test_scaled)\n",
        "    report = classification_report(y_test, y_pred, output_dict=True)\n",
        "\n",
        "    print(f\"\\n{name} - Classification Report:\")\n",
        "    print(classification_report(y_test, y_pred))\n",
        "\n",
        "    return report\n"
      ]
    },
    {
      "cell_type": "code",
      "execution_count": 19,
      "metadata": {
        "id": "OVIu4nVGfjCw",
        "colab": {
          "base_uri": "https://localhost:8080/"
        },
        "outputId": "f7ff754f-6ef6-48f9-baf1-3a7920559988"
      },
      "outputs": [
        {
          "output_type": "stream",
          "name": "stdout",
          "text": [
            "Fitting 5 folds for each of 48 candidates, totalling 240 fits\n",
            "\n",
            " Best Parameters for Model A - Median Imputation: {'C': 0.001, 'class_weight': 'balanced', 'penalty': 'l1', 'solver': 'saga'}\n",
            " Best CV F1-score: 0.7812\n",
            "\n",
            "Model A - Median Imputation - Classification Report:\n",
            "              precision    recall  f1-score   support\n",
            "\n",
            "           0       0.86      0.85      0.86      4687\n",
            "           1       0.50      0.52      0.51      1313\n",
            "\n",
            "    accuracy                           0.78      6000\n",
            "   macro avg       0.68      0.69      0.68      6000\n",
            "weighted avg       0.78      0.78      0.78      6000\n",
            "\n",
            "Fitting 5 folds for each of 48 candidates, totalling 240 fits\n",
            "\n",
            " Best Parameters for Model B - Linear Regression Imputation: {'C': 0.001, 'class_weight': 'balanced', 'penalty': 'l1', 'solver': 'saga'}\n",
            " Best CV F1-score: 0.7812\n",
            "\n",
            "Model B - Linear Regression Imputation - Classification Report:\n",
            "              precision    recall  f1-score   support\n",
            "\n",
            "           0       0.86      0.85      0.86      4687\n",
            "           1       0.50      0.52      0.51      1313\n",
            "\n",
            "    accuracy                           0.78      6000\n",
            "   macro avg       0.68      0.69      0.68      6000\n",
            "weighted avg       0.78      0.78      0.78      6000\n",
            "\n",
            "Fitting 5 folds for each of 48 candidates, totalling 240 fits\n",
            "\n",
            " Best Parameters for Model C - Non-Linear(KNN) Regression Imputation: {'C': 0.001, 'class_weight': 'balanced', 'penalty': 'l1', 'solver': 'saga'}\n",
            " Best CV F1-score: 0.7812\n",
            "\n",
            "Model C - Non-Linear(KNN) Regression Imputation - Classification Report:\n",
            "              precision    recall  f1-score   support\n",
            "\n",
            "           0       0.86      0.85      0.86      4687\n",
            "           1       0.50      0.52      0.51      1313\n",
            "\n",
            "    accuracy                           0.78      6000\n",
            "   macro avg       0.68      0.69      0.68      6000\n",
            "weighted avg       0.78      0.78      0.78      6000\n",
            "\n",
            "Fitting 5 folds for each of 48 candidates, totalling 240 fits\n",
            "\n",
            " Best Parameters for Model D - Listwise Deletion: {'C': 0.001, 'class_weight': 'balanced', 'penalty': 'l1', 'solver': 'saga'}\n",
            " Best CV F1-score: 0.7821\n",
            "\n",
            "Model D - Listwise Deletion - Classification Report:\n",
            "              precision    recall  f1-score   support\n",
            "\n",
            "           0       0.86      0.86      0.86      4238\n",
            "           1       0.50      0.50      0.50      1178\n",
            "\n",
            "    accuracy                           0.78      5416\n",
            "   macro avg       0.68      0.68      0.68      5416\n",
            "weighted avg       0.78      0.78      0.78      5416\n",
            "\n"
          ]
        }
      ],
      "source": [
        "# Evaluate all models\n",
        "report_A = evaluate_model(df_median, \"Model A - Median Imputation\")\n",
        "report_B = evaluate_model(df_linear, \"Model B - Linear Regression Imputation\")\n",
        "report_C = evaluate_model(df_nonlinear, \"Model C - Non-Linear(KNN) Regression Imputation\")\n",
        "report_D = evaluate_model(df_listwise, \"Model D - Listwise Deletion\")"
      ]
    },
    {
      "cell_type": "markdown",
      "metadata": {
        "id": "6i-qpzkWlm_J"
      },
      "source": [
        "**From Classification Reports , following points should be observed :**\n",
        "\n",
        "- All imputation methods (Median, Linear Regression, KNN) give similar overall performance with **accuracy ~0.78** and comparable precision, recall, and F1-scores.\n",
        "- **Class '0'** is predicted very well across all models (high precision and recall), while **class '1'** remains harder to predict (low recall and F1-score).\n",
        "- Listwise deletion reduces the dataset size (27077 vs 30000) but does not significantly improve or worsen performance.\n",
        "- Overall, imputation method choice has minimal impact on classifier performance in this dataset.\n",
        "\n",
        "---"
      ]
    },
    {
      "cell_type": "markdown",
      "metadata": {
        "id": "2J2DhSATkCf_"
      },
      "source": [
        "# **PART C: COMPARATIVE ANALYSIS**"
      ]
    },
    {
      "cell_type": "markdown",
      "metadata": {
        "id": "iQJhcVVRamZA"
      },
      "source": [
        "- Create summary table with Accuracy, Precision, Recall, and Weighted F1-Score"
      ]
    },
    {
      "cell_type": "code",
      "execution_count": 22,
      "metadata": {
        "id": "JDP53uvFj-ML",
        "colab": {
          "base_uri": "https://localhost:8080/"
        },
        "outputId": "eda328d1-203c-48bb-a2a2-a2bb7ea89cab"
      },
      "outputs": [
        {
          "output_type": "stream",
          "name": "stdout",
          "text": [
            "\n",
            "Performance Summary:\n",
            "            Model  Accuracy  Precision (Weighted)  Recall (Weighted)  \\\n",
            "0      A - Median    0.7792                0.7832             0.7792   \n",
            "1      B - Linear    0.7792                0.7832             0.7792   \n",
            "2  C - Non-Linear    0.7792                0.7832             0.7792   \n",
            "3    D - Listwise    0.7805                0.7811             0.7805   \n",
            "\n",
            "   F1-Score (Weighted)  \n",
            "0               0.7811  \n",
            "1               0.7811  \n",
            "2               0.7811  \n",
            "3               0.7808  \n"
          ]
        }
      ],
      "source": [
        "summary = pd.DataFrame({\n",
        "    'Model': ['A - Median', 'B - Linear', 'C - Non-Linear', 'D - Listwise'],\n",
        "    'Accuracy': [\n",
        "        round(report_A['accuracy'], 4),\n",
        "        round(report_B['accuracy'], 4),\n",
        "        round(report_C['accuracy'], 4),\n",
        "        round(report_D['accuracy'], 4)\n",
        "    ],\n",
        "    'Precision (Weighted)': [\n",
        "        round(report_A['weighted avg']['precision'], 4),\n",
        "        round(report_B['weighted avg']['precision'], 4),\n",
        "        round(report_C['weighted avg']['precision'], 4),\n",
        "        round(report_D['weighted avg']['precision'], 4)\n",
        "    ],\n",
        "    'Recall (Weighted)': [\n",
        "        round(report_A['weighted avg']['recall'], 4),\n",
        "        round(report_B['weighted avg']['recall'], 4),\n",
        "        round(report_C['weighted avg']['recall'], 4),\n",
        "        round(report_D['weighted avg']['recall'], 4)\n",
        "    ],\n",
        "    'F1-Score (Weighted)': [\n",
        "        round(report_A['weighted avg']['f1-score'], 4),\n",
        "        round(report_B['weighted avg']['f1-score'], 4),\n",
        "        round(report_C['weighted avg']['f1-score'], 4),\n",
        "        round(report_D['weighted avg']['f1-score'], 4)\n",
        "    ]\n",
        "})\n",
        "\n",
        "print(\"\\nPerformance Summary:\")\n",
        "print(summary)\n"
      ]
    },
    {
      "cell_type": "markdown",
      "source": [
        "F1-score using Dataset D for logistic model is slightly better than all other Datasets' models ."
      ],
      "metadata": {
        "id": "AGLcj2rC6vU8"
      }
    },
    {
      "cell_type": "markdown",
      "metadata": {
        "id": "GUVhs4oXq7Uh"
      },
      "source": [
        "# **Visualization :**"
      ]
    },
    {
      "cell_type": "code",
      "execution_count": 30,
      "metadata": {
        "id": "Vlry1a8op-M2",
        "colab": {
          "base_uri": "https://localhost:8080/",
          "height": 563
        },
        "outputId": "009b7d9a-75d0-4925-ab15-47947b1c0085"
      },
      "outputs": [
        {
          "output_type": "display_data",
          "data": {
            "text/plain": [
              "<Figure size 800x600 with 1 Axes>"
            ],
            "image/png": "[encoded data removed]"
          },
          "metadata": {}
        }
      ],
      "source": [
        "plt.figure(figsize=(8,6))\n",
        "sns.barplot(data=summary, x='Model', y='F1-Score (Weighted)', palette='viridis')\n",
        "\n",
        "# Annotate bars with F1 values\n",
        "for index, row in summary.iterrows():\n",
        "    plt.text(index, row['F1-Score (Weighted)'] + 0.005, f\"{row['F1-Score (Weighted)']:.4f}\",ha='center', va='bottom', fontsize=10)\n",
        "\n",
        "plt.title('Weighted F1-Scores')\n",
        "plt.ylim(0, 0.9)\n",
        "plt.show()"
      ]
    },
    {
      "cell_type": "markdown",
      "metadata": {
        "id": "FWvEH0rYqWiu"
      },
      "source": [
        "### **-> trade-off between Listwise Deletion (Model D) and Imputation Models (A, B, C)**\n",
        "- All models show similar accuracy ( ~ 0.78) and weighted F1 (~0.78).\n",
        "- Model D uses fewer samples (27077 vs 30000) → less training data → potential bias and weaker generalization.\n",
        "- Imputation models retain full data, preserving relationships and statistical consistency.\n",
        "\n",
        "Hence, even with similar performance, imputation is more reliable and scalable for larger missingness.\n",
        "\n",
        "---\n",
        "\n",
        "**Why might Model D perform poorly even if the imputed models perform worse?**\n",
        "- As we discussed above Model D may perform poorly because listwise deletion removes all rows with missing values, reducing the dataset size and losing valuable information.\n",
        "\n",
        "This loss of data and potential bias weakens the model’s ability to generalize, even if imputed models add small estimation errors.\n",
        "\n",
        "---\n"
      ]
    },
    {
      "cell_type": "markdown",
      "metadata": {
        "id": "an_Grew3ogwy"
      },
      "source": [
        "### **-> Which regression method (Linear vs. Non-Linear) performed better and why?**\n",
        "\n",
        "- Model B (Linear) and Model C (Non-Linear KNN) yield almost identical scores.\n",
        "- This suggests the relationship between AGE and predictors is largely linear in this dataset.\n",
        "- Non-linear methods (KNN) can capture complex patterns, but **here they offer no added advantage** since data show simple trends.\n",
        "\n",
        "Therefore, **Linear Regression Imputation (Model B)** is the better and more efficient choice here — simpler, faster, and equally accurate.\n",
        "\n",
        "---"
      ]
    },
    {
      "cell_type": "markdown",
      "metadata": {
        "id": "a6hDegT1puCk"
      },
      "source": [
        "## **-> Recommendation on the best strategy for handling missing data ?**\n",
        "\n",
        "- All imputation models (A–C) outperform listwise deletion conceptually, even if metrics are close.\n",
        "- Median imputation (A) is the simplest baseline.\n",
        "\n",
        "- Linear regression imputation (B) offers the best balance of accuracy, simplicity, and interpretability.\n",
        "- Non-linear imputation (C) is useful only when strong non-linear dependencies exist.\n",
        "- Based on the results, all imputation methods achieved similar accuracy ( ~ 0.78) and F1-scores (~0.78), while retaining more data than listwise deletion.\n",
        "\n",
        "\n",
        "\n",
        "**Final Recommendation:** **Linear Regression Imputation (Model B)** is preferred for this dataset . it preserves data quantity, captures relationships accurately, and performs as well as the more complex KNN approach.\n",
        "\n",
        "---"
      ]
    }
  ],
  "metadata": {
    "colab": {
      "provenance": []
    },
    "kernelspec": {
      "display_name": "Python 3",
      "name": "python3"
    },
    "language_info": {
      "name": "python"
    }
  },
  "nbformat": 4,
  "nbformat_minor": 0
}